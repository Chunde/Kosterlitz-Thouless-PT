{
 "cells": [
  {
   "cell_type": "code",
   "execution_count": 1,
   "metadata": {
    "collapsed": true
   },
   "outputs": [],
   "source": [
    "import numpy as np"
   ]
  },
  {
   "cell_type": "code",
   "execution_count": 2,
   "metadata": {
    "collapsed": true
   },
   "outputs": [],
   "source": [
    "L = 16"
   ]
  },
  {
   "cell_type": "code",
   "execution_count": 3,
   "metadata": {
    "collapsed": true
   },
   "outputs": [],
   "source": [
    "XY = (np.random.rand(L, L)-0.5)*2*np.pi"
   ]
  },
  {
   "cell_type": "code",
   "execution_count": 4,
   "metadata": {
    "collapsed": false
   },
   "outputs": [
    {
     "data": {
      "text/plain": [
       "array([[ 2.46350518, -1.16157081,  2.17344483,  2.68242042,  0.55881025,\n",
       "        -1.35202256,  2.09936314,  0.97294475,  0.84935669, -0.99699853,\n",
       "        -0.90403157, -2.04738174,  1.62153   , -1.54702656, -0.01704739,\n",
       "        -0.13633035],\n",
       "       [ 2.94070798, -0.23397764, -2.34049935, -0.56087982, -0.57988156,\n",
       "         2.25032523, -1.76409049,  1.80190391,  2.00588557, -3.08044431,\n",
       "        -0.79474508,  0.1672647 , -2.58106441, -2.28383077, -3.00373047,\n",
       "         0.85503329],\n",
       "       [ 1.50141299, -0.54165289, -2.75936436, -1.56899457,  2.72531186,\n",
       "        -1.85494656,  1.28642077,  1.66473762,  2.65027338, -1.28234354,\n",
       "         0.59605758, -2.20401042, -1.52795197, -1.61222829,  2.39972493,\n",
       "         1.91970911],\n",
       "       [-2.01930849, -0.29532996,  1.97048636,  1.68408844,  0.84693071,\n",
       "        -1.43061183, -1.34900776,  2.25781766,  1.3078643 , -0.17094262,\n",
       "        -0.87323227,  2.8589997 ,  1.99596658, -1.08577636,  1.64775013,\n",
       "         0.95863251],\n",
       "       [ 1.06173658,  2.38242612, -3.12931785,  2.16689719, -0.45959563,\n",
       "         2.06022227,  1.81940876, -1.10873649,  0.32776699, -0.81918208,\n",
       "        -2.98200182, -0.89808647,  2.17113519, -1.95727275,  2.36933851,\n",
       "        -0.05523418],\n",
       "       [-1.59404767,  2.23874021,  0.77883651, -0.64633421,  0.83664722,\n",
       "        -2.94644915,  1.63202148, -2.07192528,  3.09027444, -2.92441838,\n",
       "         2.14061557, -1.9482699 ,  2.51799111,  0.12113135, -2.04986896,\n",
       "        -1.73017665],\n",
       "       [ 1.03010234, -1.01866951, -1.61101664, -1.94051068,  1.6514307 ,\n",
       "         2.63161032, -1.0508888 , -2.18956343,  1.3891805 ,  2.1408416 ,\n",
       "         0.69176931,  2.53980231,  2.11033287,  0.8283508 ,  2.9240146 ,\n",
       "        -0.19410989],\n",
       "       [-1.33352385, -2.5276249 , -0.10602906,  1.78554982, -1.07958685,\n",
       "         1.92627037,  0.11145066, -0.84427009, -1.24350839,  0.58861529,\n",
       "         0.70448115,  2.05970238, -2.93423422, -2.40282112, -0.72950856,\n",
       "        -1.63662224],\n",
       "       [ 1.39988875, -0.38774381, -0.20463756,  0.5340517 , -2.73182152,\n",
       "         2.52982499, -1.4491712 , -2.60702299,  0.65932866, -0.4423503 ,\n",
       "         3.00635713,  2.39489873,  2.60211132, -1.00893455, -2.07079721,\n",
       "         1.69798539],\n",
       "       [-0.76026602, -1.27860691, -2.25233044, -1.95897254,  0.18508601,\n",
       "         2.03044032,  0.40907287, -0.6849049 , -0.69104127,  2.09698733,\n",
       "         2.98248454, -1.51122279, -2.23889547,  0.59153756, -2.314629  ,\n",
       "         2.16018554],\n",
       "       [-0.66998365, -1.50201059,  1.33559181,  1.1898444 , -1.09810465,\n",
       "        -0.24047194,  2.58755139, -2.82813504, -1.31697973,  3.09325389,\n",
       "        -1.72914205, -1.93421262, -1.13655593, -0.55062968,  0.52953068,\n",
       "         0.61211571],\n",
       "       [ 0.01549753,  0.88436976,  1.3651891 , -1.44812251,  0.58645411,\n",
       "        -2.29833863,  1.20984558,  1.14050198,  1.86978245,  2.88108694,\n",
       "         2.24727009, -0.10160079, -0.81216175,  2.29568952, -1.58552526,\n",
       "         2.95399622],\n",
       "       [-1.29626485,  0.91175127,  0.60512789,  2.37297217,  0.71670402,\n",
       "        -0.57984084,  1.46139881, -2.60731174,  0.51838822, -0.55649696,\n",
       "        -1.41848982,  0.71368974, -1.29444753,  3.14145433, -2.43322109,\n",
       "         2.74713573],\n",
       "       [-0.70758222,  0.21555198,  1.98087553,  1.51485803,  0.36489247,\n",
       "         0.3661118 , -0.07729187, -0.99245406,  0.26205683,  2.14751931,\n",
       "         2.21682131, -0.20199828,  1.21692243, -2.62894489,  1.70227768,\n",
       "         0.22708571],\n",
       "       [ 1.81799619,  2.66618243, -2.27457047, -2.25744332,  2.70936723,\n",
       "         0.43780784, -0.47988295,  0.56662164, -2.52085732,  3.07854384,\n",
       "         2.31506247, -0.29466705, -2.32540047,  1.82943595,  2.92523451,\n",
       "         2.24157714],\n",
       "       [-1.43215537,  1.92362962,  0.69654001,  0.22128235, -0.22574506,\n",
       "         0.95538519,  1.48195407, -0.99997983,  2.96879821,  1.38214744,\n",
       "         2.74586973,  1.64754228, -2.23338992, -0.18045248, -0.3941449 ,\n",
       "         0.56102246]])"
      ]
     },
     "execution_count": 4,
     "metadata": {},
     "output_type": "execute_result"
    }
   ],
   "source": [
    "XY"
   ]
  },
  {
   "cell_type": "code",
   "execution_count": 5,
   "metadata": {
    "collapsed": true
   },
   "outputs": [],
   "source": [
    "import matplotlib.pyplot as plt"
   ]
  },
  {
   "cell_type": "code",
   "execution_count": 6,
   "metadata": {
    "collapsed": false
   },
   "outputs": [
    {
     "data": {
      "text/plain": [
       "<matplotlib.image.AxesImage at 0x1110b9f98>"
      ]
     },
     "execution_count": 6,
     "metadata": {},
     "output_type": "execute_result"
    }
   ],
   "source": [
    "plt.matshow(XY)"
   ]
  },
  {
   "cell_type": "code",
   "execution_count": 7,
   "metadata": {
    "collapsed": false
   },
   "outputs": [
    {
     "data": {
      "image/png": "[encoded data removed]",
      "text/plain": [
       "<matplotlib.figure.Figure at 0x110fc7470>"
      ]
     },
     "metadata": {},
     "output_type": "display_data"
    }
   ],
   "source": [
    "plt.show()"
   ]
  },
  {
   "cell_type": "code",
   "execution_count": 8,
   "metadata": {
    "collapsed": true
   },
   "outputs": [],
   "source": [
    "X, Y = np.mgrid[0:L, 0:L]"
   ]
  },
  {
   "cell_type": "code",
   "execution_count": 9,
   "metadata": {
    "collapsed": false
   },
   "outputs": [
    {
     "data": {
      "text/plain": [
       "array([[ 0,  0,  0,  0,  0,  0,  0,  0,  0,  0,  0,  0,  0,  0,  0,  0],\n",
       "       [ 1,  1,  1,  1,  1,  1,  1,  1,  1,  1,  1,  1,  1,  1,  1,  1],\n",
       "       [ 2,  2,  2,  2,  2,  2,  2,  2,  2,  2,  2,  2,  2,  2,  2,  2],\n",
       "       [ 3,  3,  3,  3,  3,  3,  3,  3,  3,  3,  3,  3,  3,  3,  3,  3],\n",
       "       [ 4,  4,  4,  4,  4,  4,  4,  4,  4,  4,  4,  4,  4,  4,  4,  4],\n",
       "       [ 5,  5,  5,  5,  5,  5,  5,  5,  5,  5,  5,  5,  5,  5,  5,  5],\n",
       "       [ 6,  6,  6,  6,  6,  6,  6,  6,  6,  6,  6,  6,  6,  6,  6,  6],\n",
       "       [ 7,  7,  7,  7,  7,  7,  7,  7,  7,  7,  7,  7,  7,  7,  7,  7],\n",
       "       [ 8,  8,  8,  8,  8,  8,  8,  8,  8,  8,  8,  8,  8,  8,  8,  8],\n",
       "       [ 9,  9,  9,  9,  9,  9,  9,  9,  9,  9,  9,  9,  9,  9,  9,  9],\n",
       "       [10, 10, 10, 10, 10, 10, 10, 10, 10, 10, 10, 10, 10, 10, 10, 10],\n",
       "       [11, 11, 11, 11, 11, 11, 11, 11, 11, 11, 11, 11, 11, 11, 11, 11],\n",
       "       [12, 12, 12, 12, 12, 12, 12, 12, 12, 12, 12, 12, 12, 12, 12, 12],\n",
       "       [13, 13, 13, 13, 13, 13, 13, 13, 13, 13, 13, 13, 13, 13, 13, 13],\n",
       "       [14, 14, 14, 14, 14, 14, 14, 14, 14, 14, 14, 14, 14, 14, 14, 14],\n",
       "       [15, 15, 15, 15, 15, 15, 15, 15, 15, 15, 15, 15, 15, 15, 15, 15]])"
      ]
     },
     "execution_count": 9,
     "metadata": {},
     "output_type": "execute_result"
    }
   ],
   "source": [
    "X"
   ]
  },
  {
   "cell_type": "code",
   "execution_count": 10,
   "metadata": {
    "collapsed": false
   },
   "outputs": [
    {
     "data": {
      "text/plain": [
       "array([[ 0,  1,  2,  3,  4,  5,  6,  7,  8,  9, 10, 11, 12, 13, 14, 15],\n",
       "       [ 0,  1,  2,  3,  4,  5,  6,  7,  8,  9, 10, 11, 12, 13, 14, 15],\n",
       "       [ 0,  1,  2,  3,  4,  5,  6,  7,  8,  9, 10, 11, 12, 13, 14, 15],\n",
       "       [ 0,  1,  2,  3,  4,  5,  6,  7,  8,  9, 10, 11, 12, 13, 14, 15],\n",
       "       [ 0,  1,  2,  3,  4,  5,  6,  7,  8,  9, 10, 11, 12, 13, 14, 15],\n",
       "       [ 0,  1,  2,  3,  4,  5,  6,  7,  8,  9, 10, 11, 12, 13, 14, 15],\n",
       "       [ 0,  1,  2,  3,  4,  5,  6,  7,  8,  9, 10, 11, 12, 13, 14, 15],\n",
       "       [ 0,  1,  2,  3,  4,  5,  6,  7,  8,  9, 10, 11, 12, 13, 14, 15],\n",
       "       [ 0,  1,  2,  3,  4,  5,  6,  7,  8,  9, 10, 11, 12, 13, 14, 15],\n",
       "       [ 0,  1,  2,  3,  4,  5,  6,  7,  8,  9, 10, 11, 12, 13, 14, 15],\n",
       "       [ 0,  1,  2,  3,  4,  5,  6,  7,  8,  9, 10, 11, 12, 13, 14, 15],\n",
       "       [ 0,  1,  2,  3,  4,  5,  6,  7,  8,  9, 10, 11, 12, 13, 14, 15],\n",
       "       [ 0,  1,  2,  3,  4,  5,  6,  7,  8,  9, 10, 11, 12, 13, 14, 15],\n",
       "       [ 0,  1,  2,  3,  4,  5,  6,  7,  8,  9, 10, 11, 12, 13, 14, 15],\n",
       "       [ 0,  1,  2,  3,  4,  5,  6,  7,  8,  9, 10, 11, 12, 13, 14, 15],\n",
       "       [ 0,  1,  2,  3,  4,  5,  6,  7,  8,  9, 10, 11, 12, 13, 14, 15]])"
      ]
     },
     "execution_count": 10,
     "metadata": {},
     "output_type": "execute_result"
    }
   ],
   "source": [
    "Y"
   ]
  },
  {
   "cell_type": "code",
   "execution_count": 11,
   "metadata": {
    "collapsed": false
   },
   "outputs": [
    {
     "data": {
      "text/plain": [
       "array([[-0.77877388,  0.39789892, -0.56682639, -0.89641968,  0.84788649,\n",
       "         0.21703278, -0.50429626,  0.562868  ,  0.66046631,  0.54282552,\n",
       "         0.61844688, -0.45874776, -0.05071191,  0.02376753,  0.9998547 ,\n",
       "         0.9907214 ],\n",
       "       [-0.97989044,  0.97275188, -0.695922  ,  0.84678744,  0.83652755,\n",
       "        -0.62842664, -0.19209275, -0.2290558 , -0.42149133, -0.99813102,\n",
       "         0.70046672,  0.98604384, -0.8469744 , -0.65413197, -0.99051205,\n",
       "         0.65619339],\n",
       "       [ 0.06932768,  0.8568577 , -0.92783581,  0.00180175, -0.91459917,\n",
       "        -0.28034186,  0.28055814, -0.09380318, -0.88171121,  0.28446928,\n",
       "         0.82755526, -0.59173879,  0.04283125, -0.04142011, -0.73720789,\n",
       "        -0.3418763 ],\n",
       "       [-0.43362534,  0.95670616, -0.38913282, -0.11304992,  0.66228593,\n",
       "         0.1397258 ,  0.21997473, -0.63423708,  0.25991292,  0.98542485,\n",
       "         0.64235267, -0.96033563, -0.41247589,  0.46622603, -0.07687788,\n",
       "         0.57463968],\n",
       "       [ 0.48735643, -0.72540995, -0.99992467, -0.5614201 ,  0.89623194,\n",
       "        -0.4701193 , -0.24605929,  0.44579289,  0.94676357,  0.682819  ,\n",
       "        -0.98729239,  0.62310775, -0.56492212, -0.37692707, -0.71633966,\n",
       "         0.99847498],\n",
       "       [-0.02324925, -0.61937304,  0.71173132,  0.79829693,  0.66995569,\n",
       "        -0.98101985, -0.06118691, -0.48041598, -0.99868351, -0.97651021,\n",
       "        -0.53947986, -0.36857308, -0.81178056,  0.99267256, -0.46095641,\n",
       "        -0.15870642],\n",
       "       [ 0.5147311 ,  0.52449921, -0.04020947, -0.3613491 , -0.08054702,\n",
       "        -0.87275313,  0.49679988, -0.58003129,  0.18061906, -0.53967016,\n",
       "         0.77011857, -0.82432339, -0.51373843,  0.67609184, -0.97642313,\n",
       "         0.98121975],\n",
       "       [ 0.2350524 , -0.81736857,  0.99438418, -0.21310659,  0.47169271,\n",
       "        -0.34803481,  0.9937958 ,  0.66427705,  0.32147611,  0.83171028,\n",
       "         0.76194768, -0.46966039, -0.97857816, -0.73929634,  0.74550204,\n",
       "        -0.06577838],\n",
       "       [ 0.17007677,  0.92576448,  0.9791347 ,  0.86075172, -0.91721203,\n",
       "        -0.8186341 ,  0.12132549, -0.86048795,  0.79040366,  0.90374808,\n",
       "        -0.9908696 , -0.73393841, -0.85797523,  0.53276267, -0.47942631,\n",
       "        -0.12684642],\n",
       "       [ 0.72465272,  0.28804953, -0.62998517, -0.37850095,  0.98292043,\n",
       "        -0.44362908,  0.91748999,  0.77447921,  0.77058279, -0.50224325,\n",
       "        -0.98736898,  0.05953831, -0.61949493,  0.83008426, -0.67711326,\n",
       "        -0.55585339],\n",
       "       [ 0.78383182,  0.0687315 ,  0.23304188,  0.37180432,  0.45528446,\n",
       "         0.97122568, -0.85040525, -0.95127311,  0.2511001 , -0.99883191,\n",
       "        -0.15768484, -0.35546947,  0.42072142,  0.85219523,  0.86304423,\n",
       "         0.81843416],\n",
       "       [ 0.99987992,  0.63377713,  0.20416163,  0.12236636,  0.83290825,\n",
       "        -0.66503621,  0.35316387,  0.41713833, -0.29455147, -0.96625985,\n",
       "        -0.62604722,  0.99484308,  0.6879311 , -0.6630555 , -0.0147284 ,\n",
       "        -0.98245533],\n",
       "       [ 0.27109599,  0.61236217,  0.82242935, -0.71887032,  0.75397496,\n",
       "         0.83654986,  0.10917944, -0.86063503,  0.86861891,  0.84911068,\n",
       "         0.15171834,  0.75595162,  0.27284481, -0.99999999, -0.75942234,\n",
       "        -0.92320541],\n",
       "       [ 0.75993565,  0.97685848, -0.39868197,  0.05590913,  0.93416214,\n",
       "         0.93372633,  0.99701447,  0.54663655,  0.96585916, -0.5452799 ,\n",
       "        -0.60201718,  0.97966762,  0.34653425, -0.87144887, -0.13110285,\n",
       "         0.97432665],\n",
       "       [-0.24468991, -0.88910503, -0.64709972, -0.63394761, -0.90803579,\n",
       "         0.90568322,  0.88704897,  0.84371924, -0.81345098, -0.99801308,\n",
       "        -0.67743218,  0.95689889, -0.68500033, -0.25576566, -0.97668574,\n",
       "        -0.62159782],\n",
       "       [ 0.13819724, -0.34555794,  0.76706659,  0.9756168 ,  0.97462761,\n",
       "         0.57729428,  0.08872543,  0.54031928, -0.98510815,  0.18753192,\n",
       "        -0.92271814, -0.07667063, -0.6151637 ,  0.98376258,  0.92332528,\n",
       "         0.84671155]])"
      ]
     },
     "execution_count": 11,
     "metadata": {},
     "output_type": "execute_result"
    }
   ],
   "source": [
    "X_new = np.cos(XY)\n",
    "X_new"
   ]
  },
  {
   "cell_type": "code",
   "execution_count": 12,
   "metadata": {
    "collapsed": false
   },
   "outputs": [
    {
     "data": {
      "text/plain": [
       "array([[  6.27304744e-01,  -9.17429263e-01,   8.23837267e-01,\n",
       "          4.43206229e-01,   5.30177801e-01,  -9.76164316e-01,\n",
       "          8.63530707e-01,   8.26546798e-01,   7.50855679e-01,\n",
       "         -8.39845497e-01,  -7.85826604e-01,  -8.88566536e-01,\n",
       "          9.98713323e-01,  -9.99717512e-01,  -1.70465630e-02,\n",
       "         -1.35908438e-01],\n",
       "       [  1.99536292e-01,  -2.31848606e-01,  -7.18117376e-01,\n",
       "         -5.31931422e-01,  -5.47924865e-01,   7.77868855e-01,\n",
       "         -9.81376775e-01,   9.73413294e-01,   9.06832430e-01,\n",
       "         -6.11102432e-02,  -7.13685063e-01,   1.66485854e-01,\n",
       "         -5.31633683e-01,  -7.56380435e-01,  -1.37425899e-01,\n",
       "          7.54592762e-01],\n",
       "       [  9.97593942e-01,  -5.15552985e-01,  -3.72988884e-01,\n",
       "         -9.99998377e-01,   4.04361671e-01,  -9.59900224e-01,\n",
       "          9.59837033e-01,   9.95590761e-01,   4.71789516e-01,\n",
       "         -9.58685158e-01,   5.61384271e-01,  -8.06129772e-01,\n",
       "         -9.99082321e-01,  -9.99141819e-01,   6.75665987e-01,\n",
       "          9.39744963e-01],\n",
       "       [ -9.01093262e-01,  -2.91055542e-01,   9.21181657e-01,\n",
       "          9.93589309e-01,   7.49251188e-01,  -9.90190234e-01,\n",
       "         -9.75505570e-01,   7.73138621e-01,   9.65632059e-01,\n",
       "         -1.70111305e-01,  -7.66409193e-01,   2.78846685e-01,\n",
       "          9.10968519e-01,  -8.84665638e-01,   9.97040517e-01,\n",
       "          8.18406522e-01],\n",
       "       [  8.73203134e-01,   6.88317076e-01,  -1.22744968e-02,\n",
       "          8.27530951e-01,  -4.43585734e-01,   8.82602879e-01,\n",
       "          9.69254779e-01,  -8.95136135e-01,   3.21929703e-01,\n",
       "         -7.30587584e-01,  -1.58914250e-01,  -7.82136005e-01,\n",
       "          8.25144228e-01,  -9.26242940e-01,   6.97751745e-01,\n",
       "         -5.52061014e-02],\n",
       "       [ -9.99729700e-01,   7.85096831e-01,   7.02451800e-01,\n",
       "         -6.02264071e-01,   7.42401083e-01,  -1.93907313e-01,\n",
       "          9.98126325e-01,  -8.77040753e-01,   5.12956895e-02,\n",
       "         -2.15471141e-01,   8.41998505e-01,  -9.29598776e-01,\n",
       "          5.83962606e-01,   1.20835343e-01,  -8.87422779e-01,\n",
       "         -9.87325819e-01],\n",
       "       [  8.57351673e-01,  -8.51410932e-01,  -9.99191272e-01,\n",
       "         -9.32430602e-01,   9.96750810e-01,   4.88161826e-01,\n",
       "         -8.67865126e-01,  -8.14594195e-01,   9.83553128e-01,\n",
       "          8.41876543e-01,   6.37900762e-01,   5.66119202e-01,\n",
       "          8.57946867e-01,   7.36817362e-01,   2.15865410e-01,\n",
       "         -1.92893219e-01],\n",
       "       [ -9.71982700e-01,  -5.76115106e-01,  -1.05830501e-01,\n",
       "          9.77028956e-01,  -8.81763002e-01,   9.37481612e-01,\n",
       "          1.11220077e-01,  -7.47486451e-01,  -9.46917689e-01,\n",
       "          5.55209881e-01,   6.47638580e-01,   8.82847168e-01,\n",
       "         -2.05875645e-01,  -6.73380220e-01,  -6.66503349e-01,\n",
       "         -9.97834257e-01],\n",
       "       [  9.85430815e-01,  -3.78100682e-01,  -2.03212291e-01,\n",
       "          5.09025019e-01,  -3.98399419e-01,   5.74315422e-01,\n",
       "         -9.92612778e-01,  -5.09470785e-01,   6.12586362e-01,\n",
       "         -4.28064727e-01,   1.34823686e-01,   6.79216021e-01,\n",
       "          5.13691055e-01,  -8.46264695e-01,  -8.77582139e-01,\n",
       "          9.91922369e-01],\n",
       "       [ -6.89114242e-01,  -9.57615511e-01,  -7.76607167e-01,\n",
       "         -9.25600903e-01,   1.84031076e-01,   8.96210488e-01,\n",
       "          3.97758867e-01,  -6.32599364e-01,  -6.37339915e-01,\n",
       "          8.64726384e-01,   1.58437647e-01,  -9.98226021e-01,\n",
       "         -7.85000654e-01,   5.57637987e-01,  -7.35878819e-01,\n",
       "          8.31280343e-01],\n",
       "       [ -6.20973170e-01,  -9.97635194e-01,   9.72466700e-01,\n",
       "          9.28311127e-01,  -8.90346035e-01,  -2.38161015e-01,\n",
       "          5.26128225e-01,  -3.08349603e-01,  -9.67961125e-01,\n",
       "          4.83199372e-02,  -9.87489489e-01,  -9.34687892e-01,\n",
       "         -9.07189885e-01,  -5.23223939e-01,   5.05128355e-01,\n",
       "          5.74600317e-01],\n",
       "       [  1.54969049e-02,   7.73515711e-01,   9.78937193e-01,\n",
       "         -9.92484999e-01,   5.53411105e-01,  -7.46811115e-01,\n",
       "          9.35561478e-01,   9.08843007e-01,   9.55635618e-01,\n",
       "          2.57569235e-01,   7.79785152e-01,  -1.01426076e-01,\n",
       "         -7.25776003e-01,   7.48570244e-01,  -9.99891531e-01,\n",
       "          1.86498037e-01],\n",
       "       [ -9.62552318e-01,   7.90577366e-01,   5.68867258e-01,\n",
       "          6.95144205e-01,   6.56903158e-01,  -5.47890796e-01,\n",
       "          9.94022057e-01,  -5.09222298e-01,   4.95480757e-01,\n",
       "         -5.28214974e-01,  -9.88423769e-01,   6.54627489e-01,\n",
       "         -9.62058059e-01,   1.38321397e-04,  -6.50597966e-01,\n",
       "          3.84306871e-01],\n",
       "       [ -6.49998312e-01,   2.13886670e-01,   9.17089248e-01,\n",
       "          9.98435861e-01,   3.56848846e-01,   3.57987635e-01,\n",
       "         -7.72149324e-02,  -8.37369980e-01,   2.59067706e-01,\n",
       "          8.38254036e-01,   7.98483131e-01,  -2.00627378e-01,\n",
       "          9.38037318e-01,  -4.90486354e-01,   9.91368772e-01,\n",
       "          2.25139016e-01],\n",
       "       [  9.69601387e-01,   4.57703221e-01,  -7.62405375e-01,\n",
       "         -7.73375990e-01,   4.18892599e-01,   4.23955080e-01,\n",
       "         -4.61675351e-01,   5.36784731e-01,  -5.81633472e-01,\n",
       "          6.30070551e-02,   7.35585238e-01,  -2.90421263e-01,\n",
       "         -7.28542760e-01,   9.66738809e-01,   2.14674107e-01,\n",
       "          7.83336552e-01],\n",
       "       [ -9.90404726e-01,   9.38397415e-01,   6.41567488e-01,\n",
       "          2.19480886e-01,  -2.23832582e-01,   8.16536171e-01,\n",
       "          9.96056122e-01,  -8.41460087e-01,   1.71935851e-01,\n",
       "          9.82258509e-01,   3.85475340e-01,   9.97056475e-01,\n",
       "         -7.88399402e-01,  -1.79474728e-01,  -3.84018790e-01,\n",
       "          5.32052207e-01]])"
      ]
     },
     "execution_count": 12,
     "metadata": {},
     "output_type": "execute_result"
    }
   ],
   "source": [
    "Y_new = np.sin(XY)\n",
    "Y_new"
   ]
  },
  {
   "cell_type": "code",
   "execution_count": 13,
   "metadata": {
    "collapsed": false
   },
   "outputs": [],
   "source": [
    "plt.rc('text', usetex=True)\n",
    "plt.rc('font', family='serif')"
   ]
  },
  {
   "cell_type": "code",
   "execution_count": 21,
   "metadata": {
    "collapsed": false
   },
   "outputs": [
    {
     "data": {
      "text/plain": [
       "[<matplotlib.text.Text at 0x11187a898>,\n",
       " <matplotlib.text.Text at 0x11188fa90>,\n",
       " <matplotlib.text.Text at 0x11187e860>]"
      ]
     },
     "execution_count": 21,
     "metadata": {},
     "output_type": "execute_result"
    }
   ],
   "source": [
    "plt.quiver(X,Y,X_new,Y_new,XY,pivot='mid',cmap=plt.cm.bwr, clim=[-3.15,3.15])\n",
    "plt.axis('equal')\n",
    "plt.axis('off')\n",
    "cbar = plt.colorbar(ticks=[-3.14, 0, 3.14])\n",
    "cbar.ax.set_yticklabels([r\"\\pi\", r\"0\", r\"-\\pi\"])"
   ]
  },
  {
   "cell_type": "code",
   "execution_count": 22,
   "metadata": {
    "collapsed": false
   },
   "outputs": [
    {
     "data": {
      "image/png": "[encoded data removed]",
      "text/plain": [
       "<matplotlib.figure.Figure at 0x111773518>"
      ]
     },
     "metadata": {},
     "output_type": "display_data"
    }
   ],
   "source": [
    "plt.show()"
   ]
  },
  {
   "cell_type": "markdown",
   "metadata": {
    "collapsed": false
   },
   "source": [
    "np.pi"
   ]
  },
  {
   "cell_type": "code",
   "execution_count": 317,
   "metadata": {
    "collapsed": false
   },
   "outputs": [
    {
     "data": {
      "text/plain": [
       "array([[-0.64952298,  1.49122892, -1.47347276, -0.56066103,  2.5851892 ,\n",
       "        -0.15506607,  1.59317983, -0.83836572, -0.14747995, -0.2058609 ,\n",
       "        -2.73591343,  1.56888105, -0.43940361,  2.21957065, -2.71659941,\n",
       "        -1.71626669],\n",
       "       [-0.94546666,  1.08619772,  2.88292335,  1.94364059, -0.51186806,\n",
       "         3.13559041, -0.26086834, -2.46991948,  0.13446903,  2.36131298,\n",
       "        -2.78565134, -2.3976388 ,  2.45971724, -2.52711875, -1.5948512 ,\n",
       "         0.00810196],\n",
       "       [-1.17059531,  1.09115971, -0.440163  ,  1.24974117, -1.83637606,\n",
       "        -1.77615266,  1.1822794 ,  0.17673335, -2.10465149, -2.886146  ,\n",
       "        -0.91939641,  0.9581195 ,  2.72471111, -0.45875313,  2.67004836,\n",
       "        -0.00820002],\n",
       "       [ 0.2611423 , -2.83725961, -2.36241093,  2.96666733, -1.75354965,\n",
       "        -1.32949253, -2.53058315,  2.1139185 , -0.04566099,  2.53703376,\n",
       "        -2.30518477, -0.45894058,  0.05629535,  1.97517416,  2.21302477,\n",
       "        -1.17301611],\n",
       "       [ 0.29094904,  1.08044742,  2.34892279,  1.55463102, -0.46234498,\n",
       "        -0.41350028,  0.884678  ,  1.81551   ,  2.51255204, -1.82959869,\n",
       "         0.52736352, -0.24734371, -1.84305993, -0.17623646,  1.74482955,\n",
       "        -2.95013763],\n",
       "       [ 0.24592142,  3.04347734,  1.64229638, -0.58332669, -2.49434657,\n",
       "        -1.21817585, -0.40791168,  1.85059134,  0.30868225, -1.13104566,\n",
       "         2.29801976,  0.2485921 ,  2.43867041,  1.33535907, -2.80412723,\n",
       "         1.2213588 ],\n",
       "       [ 0.83667494, -2.20404283, -2.42803618,  1.94080857,  2.83672085,\n",
       "        -1.68064725,  1.49146235, -1.61151838,  1.70391671, -1.51533207,\n",
       "         1.88602246, -0.80387509,  0.41330724,  2.474068  ,  1.45865739,\n",
       "        -1.74410537],\n",
       "       [ 1.07270162, -2.19711261,  0.68231415,  1.17296029, -1.09985701,\n",
       "         0.21034626,  3.09890794,  2.63957489,  1.4112623 ,  1.88534366,\n",
       "        -2.47420502, -2.55084838,  0.53328655,  1.61561977, -1.88124225,\n",
       "        -2.3835777 ],\n",
       "       [-0.24141274, -0.00588794,  0.82213898,  2.71539139,  0.97335235,\n",
       "        -1.12568451, -2.09459839,  0.12534831,  3.07170949, -0.43360175,\n",
       "        -2.08594725,  0.06833509, -0.48791582, -2.51429722, -2.54827651,\n",
       "         0.60358227],\n",
       "       [-1.60239666, -0.89462203, -0.76914375,  2.03311461, -1.83622997,\n",
       "         0.5290903 ,  2.92961071, -1.88541571, -0.54498352, -2.49631522,\n",
       "        -3.10077093,  1.05616438, -2.77226683,  2.13973117,  0.03625316,\n",
       "         1.61532726],\n",
       "       [ 1.37209138,  2.20641265, -0.16417922,  2.09193142, -2.51313684,\n",
       "         2.8421425 , -1.33198889,  0.26854665,  2.58905457, -1.07661458,\n",
       "        -0.77064886,  2.8688231 , -0.18847233, -2.17216085,  0.97878097,\n",
       "        -2.26399491],\n",
       "       [-1.17793429,  1.41869528, -2.45085275,  2.21793168, -1.27743061,\n",
       "        -0.82997766,  1.62987649, -1.27771268,  2.3826555 , -0.64973271,\n",
       "        -1.34115054,  2.60141947, -0.27449489, -1.1343317 , -2.80452979,\n",
       "         2.45184663],\n",
       "       [ 1.36862638,  0.67427958,  1.73503299, -0.87212821, -0.32097132,\n",
       "        -1.49474916,  2.9884998 , -1.658757  , -1.64636349,  1.7312362 ,\n",
       "        -2.80866095,  2.60517084,  3.07154797, -1.00290792,  3.12331487,\n",
       "        -0.9891512 ],\n",
       "       [-1.36675008, -0.48275313,  0.96780353,  2.02409497, -1.24151946,\n",
       "        -2.09878438,  0.91651338, -1.6611687 ,  2.53790342, -2.70098936,\n",
       "         2.70330033, -0.99989399,  2.49641177,  1.68290712,  1.64274444,\n",
       "         2.68051616],\n",
       "       [ 1.50040398,  0.35023498,  1.94948782,  2.39976491, -0.66849106,\n",
       "         3.04184659, -3.11516502,  2.64868172, -2.43678431, -1.09874319,\n",
       "         0.84500434,  3.01649258, -2.99007617,  3.06984737, -1.111643  ,\n",
       "        -2.01801043],\n",
       "       [-3.05294781,  2.35253503, -1.6121169 ,  0.3449803 , -1.30999193,\n",
       "         0.1033785 , -2.05124754, -1.14915462,  2.43267178, -2.58997249,\n",
       "         2.15966787, -1.39545885, -2.0838612 , -3.08808797, -1.48172834,\n",
       "        -1.45949271]])"
      ]
     },
     "execution_count": 317,
     "metadata": {},
     "output_type": "execute_result"
    }
   ],
   "source": [
    "XY"
   ]
  },
  {
   "cell_type": "code",
   "execution_count": 319,
   "metadata": {
    "collapsed": false
   },
   "outputs": [],
   "source": [
    "np.savetxt('test',XY)"
   ]
  },
  {
   "cell_type": "code",
   "execution_count": 323,
   "metadata": {
    "collapsed": false
   },
   "outputs": [
    {
     "name": "stdout",
     "output_type": "stream",
     "text": [
      "\u001b[H\u001b[2J"
     ]
    }
   ],
   "source": []
  },
  {
   "cell_type": "code",
   "execution_count": 325,
   "metadata": {
    "collapsed": false
   },
   "outputs": [
    {
     "ename": "AttributeError",
     "evalue": "module 'numpy' has no attribute 'runfile'",
     "output_type": "error",
     "traceback": [
      "\u001b[0;31m---------------------------------------------------------------------------\u001b[0m",
      "\u001b[0;31mAttributeError\u001b[0m                            Traceback (most recent call last)",
      "\u001b[0;32m<ipython-input-325-5bb897bb4679>\u001b[0m in \u001b[0;36m<module>\u001b[0;34m()\u001b[0m\n\u001b[0;32m----> 1\u001b[0;31m \u001b[0mnp\u001b[0m\u001b[0;34m.\u001b[0m\u001b[0mrunfile\u001b[0m\u001b[0;34m(\u001b[0m\u001b[0;34m'KT-singleAxisProj.py'\u001b[0m\u001b[0;34m)\u001b[0m\u001b[0;34m\u001b[0m\u001b[0m\n\u001b[0m",
      "\u001b[0;31mAttributeError\u001b[0m: module 'numpy' has no attribute 'runfile'"
     ]
    }
   ],
   "source": []
  },
  {
   "cell_type": "code",
   "execution_count": 322,
   "metadata": {
    "collapsed": false
   },
   "outputs": [
    {
     "ename": "NameError",
     "evalue": "name 'clean' is not defined",
     "output_type": "error",
     "traceback": [
      "\u001b[0;31m---------------------------------------------------------------------------\u001b[0m",
      "\u001b[0;31mNameError\u001b[0m                                 Traceback (most recent call last)",
      "\u001b[0;32m<ipython-input-322-175388b0347c>\u001b[0m in \u001b[0;36m<module>\u001b[0;34m()\u001b[0m\n\u001b[0;32m----> 1\u001b[0;31m \u001b[0mclean\u001b[0m\u001b[0;34m\u001b[0m\u001b[0m\n\u001b[0m",
      "\u001b[0;31mNameError\u001b[0m: name 'clean' is not defined"
     ]
    }
   ],
   "source": []
  },
  {
   "cell_type": "code",
   "execution_count": null,
   "metadata": {
    "collapsed": true
   },
   "outputs": [],
   "source": []
  }
 ],
 "metadata": {
  "kernelspec": {
   "display_name": "Python 3",
   "language": "python",
   "name": "python3"
  },
  "language_info": {
   "codemirror_mode": {
    "name": "ipython",
    "version": 3
   },
   "file_extension": ".py",
   "mimetype": "text/x-python",
   "name": "python",
   "nbconvert_exporter": "python",
   "pygments_lexer": "ipython3",
   "version": "3.5.2"
  }
 },
 "nbformat": 4,
 "nbformat_minor": 2
}
